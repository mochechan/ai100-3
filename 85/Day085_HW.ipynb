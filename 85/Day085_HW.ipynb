{
 "cells": [
  {
   "cell_type": "markdown",
   "metadata": {},
   "source": [
    "## Work\n",
    "1. 試改變 monitor \"Validation Accuracy\" 並比較結果\n",
    "2. 調整 earlystop 的等待次數至 10, 25 並比較結果"
   ]
  },
  {
   "cell_type": "code",
   "execution_count": 1,
   "metadata": {},
   "outputs": [
    {
     "name": "stdout",
     "output_type": "stream",
     "text": [
      "Requirement already satisfied: tensorflow==1.14.0 in /opt/conda/lib/python3.6/site-packages (1.14.0)\n",
      "Requirement already satisfied: keras in /opt/conda/lib/python3.6/site-packages (2.3.1)\n",
      "Requirement already satisfied: absl-py>=0.7.0 in /opt/conda/lib/python3.6/site-packages (from tensorflow==1.14.0) (0.8.1)\n",
      "Requirement already satisfied: protobuf>=3.6.1 in /opt/conda/lib/python3.6/site-packages (from tensorflow==1.14.0) (3.6.1)\n",
      "Requirement already satisfied: tensorflow-estimator<1.15.0rc0,>=1.14.0rc0 in /opt/conda/lib/python3.6/site-packages (from tensorflow==1.14.0) (1.14.0)\n",
      "Requirement already satisfied: wheel>=0.26 in /opt/conda/lib/python3.6/site-packages (from tensorflow==1.14.0) (0.32.3)\n",
      "Requirement already satisfied: numpy<2.0,>=1.14.5 in /opt/conda/lib/python3.6/site-packages (from tensorflow==1.14.0) (1.17.4)\n",
      "Requirement already satisfied: keras-preprocessing>=1.0.5 in /opt/conda/lib/python3.6/site-packages (from tensorflow==1.14.0) (1.1.0)\n",
      "Requirement already satisfied: grpcio>=1.8.6 in /opt/conda/lib/python3.6/site-packages (from tensorflow==1.14.0) (1.25.0)\n",
      "Requirement already satisfied: google-pasta>=0.1.6 in /opt/conda/lib/python3.6/site-packages (from tensorflow==1.14.0) (0.1.8)\n",
      "Requirement already satisfied: termcolor>=1.1.0 in /opt/conda/lib/python3.6/site-packages (from tensorflow==1.14.0) (1.1.0)\n",
      "Requirement already satisfied: gast>=0.2.0 in /opt/conda/lib/python3.6/site-packages (from tensorflow==1.14.0) (0.3.2)\n",
      "Requirement already satisfied: wrapt>=1.11.1 in /opt/conda/lib/python3.6/site-packages (from tensorflow==1.14.0) (1.11.2)\n",
      "Requirement already satisfied: tensorboard<1.15.0,>=1.14.0 in /opt/conda/lib/python3.6/site-packages (from tensorflow==1.14.0) (1.14.0)\n",
      "Requirement already satisfied: astor>=0.6.0 in /opt/conda/lib/python3.6/site-packages (from tensorflow==1.14.0) (0.8.0)\n",
      "Requirement already satisfied: six>=1.10.0 in /opt/conda/lib/python3.6/site-packages (from tensorflow==1.14.0) (1.12.0)\n",
      "Requirement already satisfied: keras-applications>=1.0.6 in /opt/conda/lib/python3.6/site-packages (from tensorflow==1.14.0) (1.0.8)\n",
      "Requirement already satisfied: scipy>=0.14 in /opt/conda/lib/python3.6/site-packages (from keras) (1.1.0)\n",
      "Requirement already satisfied: h5py in /opt/conda/lib/python3.6/site-packages (from keras) (2.7.1)\n",
      "Requirement already satisfied: pyyaml in /opt/conda/lib/python3.6/site-packages (from keras) (3.13)\n",
      "Requirement already satisfied: setuptools in /opt/conda/lib/python3.6/site-packages (from protobuf>=3.6.1->tensorflow==1.14.0) (42.0.2)\n",
      "Requirement already satisfied: markdown>=2.6.8 in /opt/conda/lib/python3.6/site-packages (from tensorboard<1.15.0,>=1.14.0->tensorflow==1.14.0) (3.1.1)\n",
      "Requirement already satisfied: werkzeug>=0.11.15 in /opt/conda/lib/python3.6/site-packages (from tensorboard<1.15.0,>=1.14.0->tensorflow==1.14.0) (0.16.0)\n"
     ]
    }
   ],
   "source": [
    "!pip install tensorflow==1.14.0 keras"
   ]
  },
  {
   "cell_type": "code",
   "execution_count": 2,
   "metadata": {},
   "outputs": [
    {
     "name": "stderr",
     "output_type": "stream",
     "text": [
      "/opt/conda/lib/python3.6/site-packages/h5py/__init__.py:36: FutureWarning: Conversion of the second argument of issubdtype from `float` to `np.floating` is deprecated. In future, it will be treated as `np.float64 == np.dtype(float).type`.\n",
      "  from ._conv import register_converters as _register_converters\n",
      "Using TensorFlow backend.\n",
      "/opt/conda/lib/python3.6/site-packages/tensorflow/python/framework/dtypes.py:516: FutureWarning: Passing (type, 1) or '1type' as a synonym of type is deprecated; in a future version of numpy, it will be understood as (type, (1,)) / '(1,)type'.\n",
      "  _np_qint8 = np.dtype([(\"qint8\", np.int8, 1)])\n",
      "/opt/conda/lib/python3.6/site-packages/tensorflow/python/framework/dtypes.py:517: FutureWarning: Passing (type, 1) or '1type' as a synonym of type is deprecated; in a future version of numpy, it will be understood as (type, (1,)) / '(1,)type'.\n",
      "  _np_quint8 = np.dtype([(\"quint8\", np.uint8, 1)])\n",
      "/opt/conda/lib/python3.6/site-packages/tensorflow/python/framework/dtypes.py:518: FutureWarning: Passing (type, 1) or '1type' as a synonym of type is deprecated; in a future version of numpy, it will be understood as (type, (1,)) / '(1,)type'.\n",
      "  _np_qint16 = np.dtype([(\"qint16\", np.int16, 1)])\n",
      "/opt/conda/lib/python3.6/site-packages/tensorflow/python/framework/dtypes.py:519: FutureWarning: Passing (type, 1) or '1type' as a synonym of type is deprecated; in a future version of numpy, it will be understood as (type, (1,)) / '(1,)type'.\n",
      "  _np_quint16 = np.dtype([(\"quint16\", np.uint16, 1)])\n",
      "/opt/conda/lib/python3.6/site-packages/tensorflow/python/framework/dtypes.py:520: FutureWarning: Passing (type, 1) or '1type' as a synonym of type is deprecated; in a future version of numpy, it will be understood as (type, (1,)) / '(1,)type'.\n",
      "  _np_qint32 = np.dtype([(\"qint32\", np.int32, 1)])\n",
      "/opt/conda/lib/python3.6/site-packages/tensorflow/python/framework/dtypes.py:525: FutureWarning: Passing (type, 1) or '1type' as a synonym of type is deprecated; in a future version of numpy, it will be understood as (type, (1,)) / '(1,)type'.\n",
      "  np_resource = np.dtype([(\"resource\", np.ubyte, 1)])\n",
      "/opt/conda/lib/python3.6/site-packages/tensorboard/compat/tensorflow_stub/dtypes.py:541: FutureWarning: Passing (type, 1) or '1type' as a synonym of type is deprecated; in a future version of numpy, it will be understood as (type, (1,)) / '(1,)type'.\n",
      "  _np_qint8 = np.dtype([(\"qint8\", np.int8, 1)])\n",
      "/opt/conda/lib/python3.6/site-packages/tensorboard/compat/tensorflow_stub/dtypes.py:542: FutureWarning: Passing (type, 1) or '1type' as a synonym of type is deprecated; in a future version of numpy, it will be understood as (type, (1,)) / '(1,)type'.\n",
      "  _np_quint8 = np.dtype([(\"quint8\", np.uint8, 1)])\n",
      "/opt/conda/lib/python3.6/site-packages/tensorboard/compat/tensorflow_stub/dtypes.py:543: FutureWarning: Passing (type, 1) or '1type' as a synonym of type is deprecated; in a future version of numpy, it will be understood as (type, (1,)) / '(1,)type'.\n",
      "  _np_qint16 = np.dtype([(\"qint16\", np.int16, 1)])\n",
      "/opt/conda/lib/python3.6/site-packages/tensorboard/compat/tensorflow_stub/dtypes.py:544: FutureWarning: Passing (type, 1) or '1type' as a synonym of type is deprecated; in a future version of numpy, it will be understood as (type, (1,)) / '(1,)type'.\n",
      "  _np_quint16 = np.dtype([(\"quint16\", np.uint16, 1)])\n",
      "/opt/conda/lib/python3.6/site-packages/tensorboard/compat/tensorflow_stub/dtypes.py:545: FutureWarning: Passing (type, 1) or '1type' as a synonym of type is deprecated; in a future version of numpy, it will be understood as (type, (1,)) / '(1,)type'.\n",
      "  _np_qint32 = np.dtype([(\"qint32\", np.int32, 1)])\n",
      "/opt/conda/lib/python3.6/site-packages/tensorboard/compat/tensorflow_stub/dtypes.py:550: FutureWarning: Passing (type, 1) or '1type' as a synonym of type is deprecated; in a future version of numpy, it will be understood as (type, (1,)) / '(1,)type'.\n",
      "  np_resource = np.dtype([(\"resource\", np.ubyte, 1)])\n"
     ]
    }
   ],
   "source": [
    "import os\n",
    "import keras\n",
    "import matplotlib.pyplot as plt\n",
    "%matplotlib inline\n",
    "\n",
    "\n",
    "# Disable GPU\n",
    "os.environ[\"CUDA_VISIBLE_DEVICES\"] = \"\""
   ]
  },
  {
   "cell_type": "code",
   "execution_count": 3,
   "metadata": {},
   "outputs": [],
   "source": [
    "train, test = keras.datasets.cifar10.load_data()"
   ]
  },
  {
   "cell_type": "code",
   "execution_count": 4,
   "metadata": {},
   "outputs": [],
   "source": [
    "## 資料前處理\n",
    "def preproc_x(x, flatten=True):\n",
    "    x = x / 255.\n",
    "    if flatten:\n",
    "        x = x.reshape((len(x), -1))\n",
    "    return x\n",
    "\n",
    "def preproc_y(y, num_classes=10):\n",
    "    if y.shape[-1] == 1:\n",
    "        y = keras.utils.to_categorical(y, num_classes)\n",
    "    return y    "
   ]
  },
  {
   "cell_type": "code",
   "execution_count": 5,
   "metadata": {},
   "outputs": [],
   "source": [
    "x_train, y_train = train\n",
    "x_test, y_test = test\n",
    "\n",
    "# Preproc the inputs\n",
    "x_train = preproc_x(x_train)\n",
    "x_test = preproc_x(x_test)\n",
    "\n",
    "# Preprc the outputs\n",
    "y_train = preproc_y(y_train)\n",
    "y_test = preproc_y(y_test)"
   ]
  },
  {
   "cell_type": "code",
   "execution_count": 6,
   "metadata": {},
   "outputs": [],
   "source": [
    "from keras.layers import BatchNormalization\n",
    "\"\"\"Code Here\n",
    "建立你的神經網路\n",
    "\"\"\"\n",
    "    \n",
    "def build_mlp(input_shape, output_units=10, num_neurons=[512, 256, 128]):\n",
    "    input_layer = keras.layers.Input(input_shape)\n",
    "    \n",
    "    for i, n_units in enumerate(num_neurons):\n",
    "        if i == 0:\n",
    "            x = keras.layers.Dense(units=n_units, \n",
    "                                   activation=\"relu\", \n",
    "                                   name=\"hidden_layer\"+str(i+1))(input_layer)\n",
    "            x = BatchNormalization()(x)\n",
    "        else:\n",
    "            x = keras.layers.Dense(units=n_units, \n",
    "                                   activation=\"relu\", \n",
    "                                   name=\"hidden_layer\"+str(i+1))(x)\n",
    "            x = BatchNormalization()(x)\n",
    "    \n",
    "    out = keras.layers.Dense(units=output_units, activation=\"softmax\", name=\"output\")(x)\n",
    "    \n",
    "    model = keras.models.Model(inputs=[input_layer], outputs=[out])\n",
    "    return model"
   ]
  },
  {
   "cell_type": "code",
   "execution_count": 7,
   "metadata": {},
   "outputs": [],
   "source": [
    "\"\"\"Code Here\n",
    "設定超參數\n",
    "\"\"\"\n",
    "LEARNING_RATE = 1e-3\n",
    "EPOCHS = 50\n",
    "BATCH_SIZE = 1024\n",
    "MOMENTUM = 0.95"
   ]
  },
  {
   "cell_type": "code",
   "execution_count": 8,
   "metadata": {},
   "outputs": [
    {
     "name": "stdout",
     "output_type": "stream",
     "text": [
      "Model: \"model_1\"\n",
      "_________________________________________________________________\n",
      "Layer (type)                 Output Shape              Param #   \n",
      "=================================================================\n",
      "input_1 (InputLayer)         (None, 3072)              0         \n",
      "_________________________________________________________________\n",
      "hidden_layer1 (Dense)        (None, 512)               1573376   \n",
      "_________________________________________________________________\n",
      "batch_normalization_1 (Batch (None, 512)               2048      \n",
      "_________________________________________________________________\n",
      "hidden_layer2 (Dense)        (None, 256)               131328    \n",
      "_________________________________________________________________\n",
      "batch_normalization_2 (Batch (None, 256)               1024      \n",
      "_________________________________________________________________\n",
      "hidden_layer3 (Dense)        (None, 128)               32896     \n",
      "_________________________________________________________________\n",
      "batch_normalization_3 (Batch (None, 128)               512       \n",
      "_________________________________________________________________\n",
      "output (Dense)               (None, 10)                1290      \n",
      "=================================================================\n",
      "Total params: 1,742,474\n",
      "Trainable params: 1,740,682\n",
      "Non-trainable params: 1,792\n",
      "_________________________________________________________________\n",
      "WARNING:tensorflow:From /opt/conda/lib/python3.6/site-packages/keras/backend/tensorflow_backend.py:422: The name tf.global_variables is deprecated. Please use tf.compat.v1.global_variables instead.\n",
      "\n",
      "Train on 50000 samples, validate on 10000 samples\n",
      "Epoch 1/50\n",
      "50000/50000 [==============================] - 2s 48us/step - loss: 2.2296 - accuracy: 0.2673 - val_loss: 2.1620 - val_accuracy: 0.1804\n",
      "Epoch 2/50\n",
      " 5120/50000 [==>...........................] - ETA: 1s - loss: 1.8208 - accuracy: 0.3707"
     ]
    },
    {
     "name": "stderr",
     "output_type": "stream",
     "text": [
      "/opt/conda/lib/python3.6/site-packages/keras/callbacks/callbacks.py:846: RuntimeWarning: Early stopping conditioned on metric `val_acc` which is not available. Available metrics are: val_loss,val_accuracy,loss,accuracy\n",
      "  (self.monitor, ','.join(list(logs.keys()))), RuntimeWarning\n"
     ]
    },
    {
     "name": "stdout",
     "output_type": "stream",
     "text": [
      "50000/50000 [==============================] - 2s 41us/step - loss: 1.7451 - accuracy: 0.3910 - val_loss: 1.9832 - val_accuracy: 0.2903\n",
      "Epoch 3/50\n",
      "50000/50000 [==============================] - 2s 44us/step - loss: 1.6224 - accuracy: 0.4328 - val_loss: 1.8427 - val_accuracy: 0.3537\n",
      "Epoch 4/50\n",
      "50000/50000 [==============================] - 2s 39us/step - loss: 1.5476 - accuracy: 0.4588 - val_loss: 1.7164 - val_accuracy: 0.4097\n",
      "Epoch 5/50\n",
      "50000/50000 [==============================] - 2s 39us/step - loss: 1.4933 - accuracy: 0.4785 - val_loss: 1.6438 - val_accuracy: 0.4260\n",
      "Epoch 6/50\n",
      "50000/50000 [==============================] - 2s 40us/step - loss: 1.4502 - accuracy: 0.4912 - val_loss: 1.5914 - val_accuracy: 0.4473\n",
      "Epoch 7/50\n",
      "50000/50000 [==============================] - 2s 41us/step - loss: 1.4079 - accuracy: 0.5051 - val_loss: 1.5561 - val_accuracy: 0.4548\n",
      "Epoch 8/50\n",
      "50000/50000 [==============================] - 2s 39us/step - loss: 1.3728 - accuracy: 0.5196 - val_loss: 1.5317 - val_accuracy: 0.4595\n",
      "Epoch 9/50\n",
      "50000/50000 [==============================] - 2s 40us/step - loss: 1.3421 - accuracy: 0.5304 - val_loss: 1.5133 - val_accuracy: 0.4630\n",
      "Epoch 10/50\n",
      "50000/50000 [==============================] - 2s 41us/step - loss: 1.3122 - accuracy: 0.5408 - val_loss: 1.4976 - val_accuracy: 0.4678\n",
      "Epoch 11/50\n",
      "50000/50000 [==============================] - 2s 41us/step - loss: 1.2845 - accuracy: 0.5509 - val_loss: 1.4908 - val_accuracy: 0.4768\n",
      "Epoch 12/50\n",
      "50000/50000 [==============================] - 2s 39us/step - loss: 1.2562 - accuracy: 0.5613 - val_loss: 1.4778 - val_accuracy: 0.4773\n",
      "Epoch 13/50\n",
      "50000/50000 [==============================] - 2s 40us/step - loss: 1.2299 - accuracy: 0.5724 - val_loss: 1.4818 - val_accuracy: 0.4776\n",
      "Epoch 14/50\n",
      "50000/50000 [==============================] - 2s 39us/step - loss: 1.2047 - accuracy: 0.5801 - val_loss: 1.4732 - val_accuracy: 0.4773\n",
      "Epoch 15/50\n",
      "50000/50000 [==============================] - 2s 39us/step - loss: 1.1813 - accuracy: 0.5897 - val_loss: 1.4686 - val_accuracy: 0.4880\n",
      "Epoch 16/50\n",
      "50000/50000 [==============================] - 2s 40us/step - loss: 1.1591 - accuracy: 0.5973 - val_loss: 1.4628 - val_accuracy: 0.4859\n",
      "Epoch 17/50\n",
      "50000/50000 [==============================] - 2s 41us/step - loss: 1.1363 - accuracy: 0.6065 - val_loss: 1.4567 - val_accuracy: 0.4880\n",
      "Epoch 18/50\n",
      "50000/50000 [==============================] - 2s 40us/step - loss: 1.1129 - accuracy: 0.6171 - val_loss: 1.4581 - val_accuracy: 0.4863\n",
      "Epoch 19/50\n",
      "50000/50000 [==============================] - 2s 39us/step - loss: 1.0907 - accuracy: 0.6244 - val_loss: 1.4579 - val_accuracy: 0.4885\n",
      "Epoch 20/50\n",
      "50000/50000 [==============================] - 2s 39us/step - loss: 1.0689 - accuracy: 0.6333 - val_loss: 1.4649 - val_accuracy: 0.4883\n",
      "Epoch 21/50\n",
      "50000/50000 [==============================] - 2s 39us/step - loss: 1.0486 - accuracy: 0.6398 - val_loss: 1.4598 - val_accuracy: 0.4923\n",
      "Epoch 22/50\n",
      "50000/50000 [==============================] - 2s 40us/step - loss: 1.0262 - accuracy: 0.6503 - val_loss: 1.4605 - val_accuracy: 0.4903\n",
      "Epoch 23/50\n",
      "50000/50000 [==============================] - 2s 40us/step - loss: 1.0059 - accuracy: 0.6587 - val_loss: 1.4488 - val_accuracy: 0.4941\n",
      "Epoch 24/50\n",
      "50000/50000 [==============================] - 2s 40us/step - loss: 0.9847 - accuracy: 0.6660 - val_loss: 1.4549 - val_accuracy: 0.4955\n",
      "Epoch 25/50\n",
      "50000/50000 [==============================] - 2s 39us/step - loss: 0.9640 - accuracy: 0.6745 - val_loss: 1.4655 - val_accuracy: 0.4917\n",
      "Epoch 26/50\n",
      "50000/50000 [==============================] - 2s 39us/step - loss: 0.9431 - accuracy: 0.6822 - val_loss: 1.4713 - val_accuracy: 0.4945\n",
      "Epoch 27/50\n",
      "50000/50000 [==============================] - 2s 39us/step - loss: 0.9242 - accuracy: 0.6901 - val_loss: 1.4689 - val_accuracy: 0.4953\n",
      "Epoch 28/50\n",
      "50000/50000 [==============================] - 2s 39us/step - loss: 0.9037 - accuracy: 0.6985 - val_loss: 1.4747 - val_accuracy: 0.5000\n",
      "Epoch 29/50\n",
      "50000/50000 [==============================] - 2s 41us/step - loss: 0.8823 - accuracy: 0.7061 - val_loss: 1.4741 - val_accuracy: 0.4935\n",
      "Epoch 30/50\n",
      "50000/50000 [==============================] - 2s 40us/step - loss: 0.8642 - accuracy: 0.7143 - val_loss: 1.4781 - val_accuracy: 0.4920\n",
      "Epoch 31/50\n",
      "50000/50000 [==============================] - 2s 39us/step - loss: 0.8442 - accuracy: 0.7219 - val_loss: 1.4923 - val_accuracy: 0.4943\n",
      "Epoch 32/50\n",
      "50000/50000 [==============================] - 2s 41us/step - loss: 0.8250 - accuracy: 0.7312 - val_loss: 1.4835 - val_accuracy: 0.5022\n",
      "Epoch 33/50\n",
      "50000/50000 [==============================] - 2s 39us/step - loss: 0.8040 - accuracy: 0.7376 - val_loss: 1.4943 - val_accuracy: 0.5038\n",
      "Epoch 34/50\n",
      "50000/50000 [==============================] - 2s 40us/step - loss: 0.7860 - accuracy: 0.7452 - val_loss: 1.5328 - val_accuracy: 0.4876\n",
      "Epoch 35/50\n",
      "50000/50000 [==============================] - 2s 40us/step - loss: 0.7670 - accuracy: 0.7533 - val_loss: 1.5061 - val_accuracy: 0.4969\n",
      "Epoch 36/50\n",
      "50000/50000 [==============================] - 2s 41us/step - loss: 0.7474 - accuracy: 0.7609 - val_loss: 1.5227 - val_accuracy: 0.4942\n",
      "Epoch 37/50\n",
      "50000/50000 [==============================] - 2s 41us/step - loss: 0.7274 - accuracy: 0.7677 - val_loss: 1.5409 - val_accuracy: 0.4955\n",
      "Epoch 38/50\n",
      "50000/50000 [==============================] - 2s 41us/step - loss: 0.7079 - accuracy: 0.7759 - val_loss: 1.5377 - val_accuracy: 0.4987\n",
      "Epoch 39/50\n",
      "50000/50000 [==============================] - 2s 40us/step - loss: 0.6900 - accuracy: 0.7843 - val_loss: 1.5473 - val_accuracy: 0.4958\n",
      "Epoch 40/50\n",
      "50000/50000 [==============================] - 2s 39us/step - loss: 0.6710 - accuracy: 0.7924 - val_loss: 1.5643 - val_accuracy: 0.4991\n",
      "Epoch 41/50\n",
      "50000/50000 [==============================] - 2s 39us/step - loss: 0.6533 - accuracy: 0.7973 - val_loss: 1.5889 - val_accuracy: 0.4911\n",
      "Epoch 42/50\n",
      "50000/50000 [==============================] - 2s 41us/step - loss: 0.6364 - accuracy: 0.8047 - val_loss: 1.5674 - val_accuracy: 0.4925\n",
      "Epoch 43/50\n",
      "50000/50000 [==============================] - 2s 40us/step - loss: 0.6178 - accuracy: 0.8120 - val_loss: 1.5987 - val_accuracy: 0.4866\n",
      "Epoch 44/50\n",
      "50000/50000 [==============================] - 2s 39us/step - loss: 0.5997 - accuracy: 0.8202 - val_loss: 1.6142 - val_accuracy: 0.4927\n",
      "Epoch 45/50\n",
      "50000/50000 [==============================] - 2s 41us/step - loss: 0.5799 - accuracy: 0.8282 - val_loss: 1.6211 - val_accuracy: 0.4869\n",
      "Epoch 46/50\n",
      "50000/50000 [==============================] - 2s 40us/step - loss: 0.5651 - accuracy: 0.8335 - val_loss: 1.6416 - val_accuracy: 0.4896\n",
      "Epoch 47/50\n",
      "50000/50000 [==============================] - 2s 40us/step - loss: 0.5486 - accuracy: 0.8400 - val_loss: 1.6301 - val_accuracy: 0.4882\n",
      "Epoch 48/50\n",
      "50000/50000 [==============================] - 2s 39us/step - loss: 0.5329 - accuracy: 0.8478 - val_loss: 1.6297 - val_accuracy: 0.4939\n",
      "Epoch 49/50\n",
      "50000/50000 [==============================] - 2s 40us/step - loss: 0.5142 - accuracy: 0.8534 - val_loss: 1.6551 - val_accuracy: 0.4909\n",
      "Epoch 50/50\n",
      "50000/50000 [==============================] - 2s 40us/step - loss: 0.4982 - accuracy: 0.8610 - val_loss: 1.6759 - val_accuracy: 0.4875\n"
     ]
    },
    {
     "data": {
      "text/plain": [
       "'Code Here\\n撰寫你的訓練流程並將結果用 dictionary 紀錄\\n'"
      ]
     },
     "execution_count": 8,
     "metadata": {},
     "output_type": "execute_result"
    }
   ],
   "source": [
    "# 載入 Callbacks\n",
    "\"\"\"Code Here\n",
    "設定 callbacks: Earlystop\n",
    "\"\"\"\n",
    "from keras.callbacks import EarlyStopping\n",
    "\n",
    "earlystop = EarlyStopping(monitor=\"val_acc\", \n",
    "                          patience=10, \n",
    "                          verbose=1\n",
    "                          )\n",
    "\n",
    "model = build_mlp(input_shape=x_train.shape[1:])\n",
    "model.summary()\n",
    "optimizer = keras.optimizers.SGD(lr=LEARNING_RATE, nesterov=True, momentum=MOMENTUM)\n",
    "model.compile(loss=\"categorical_crossentropy\", metrics=[\"accuracy\"], optimizer=optimizer)\n",
    "\n",
    "model.fit(x_train, y_train, \n",
    "          epochs=EPOCHS, \n",
    "          batch_size=BATCH_SIZE, \n",
    "          validation_data=(x_test, y_test), \n",
    "          shuffle=True,\n",
    "          callbacks=[earlystop]\n",
    "         )\n",
    "\n",
    "\n",
    "train_loss = model.history.history[\"loss\"]\n",
    "valid_loss = model.history.history[\"val_loss\"]\n",
    "train_acc = model.history.history[\"accuracy\"]\n",
    "valid_acc = model.history.history[\"val_accuracy\"]\n",
    "results = {}\n",
    "results['10'] = {'train-loss': train_loss,\n",
    "                         'valid-loss': valid_loss,\n",
    "                         'train-acc': train_acc,\n",
    "                         'valid-acc': valid_acc}\n",
    "\n",
    "\"\"\"Code Here\n",
    "撰寫你的訓練流程並將結果用 dictionary 紀錄\n",
    "\"\"\""
   ]
  },
  {
   "cell_type": "code",
   "execution_count": 9,
   "metadata": {},
   "outputs": [
    {
     "data": {
      "image/png": "[encoded data removed]",
      "text/plain": [
       "<Figure size 432x288 with 1 Axes>"
      ]
     },
     "metadata": {
      "needs_background": "light"
     },
     "output_type": "display_data"
    },
    {
     "data": {
      "image/png": "[encoded data removed]",
      "text/plain": [
       "<Figure size 432x288 with 1 Axes>"
      ]
     },
     "metadata": {
      "needs_background": "light"
     },
     "output_type": "display_data"
    }
   ],
   "source": [
    "import matplotlib.pyplot as plt\n",
    "%matplotlib inline\n",
    "\"\"\"Code Here\n",
    "將結果繪出\n",
    "\"\"\"\n",
    "plt.plot(range(len(train_loss)), train_loss, label=\"train loss\")\n",
    "plt.plot(range(len(valid_loss)), valid_loss, label=\"valid loss\")\n",
    "plt.legend()\n",
    "plt.title(\"Loss\")\n",
    "plt.show()\n",
    "\n",
    "plt.plot(range(len(train_acc)), train_acc, label=\"train accuracy\")\n",
    "plt.plot(range(len(valid_acc)), valid_acc, label=\"valid accuracy\")\n",
    "plt.legend()\n",
    "plt.title(\"Accuracy\")\n",
    "plt.show()"
   ]
  },
  {
   "cell_type": "code",
   "execution_count": 10,
   "metadata": {},
   "outputs": [
    {
     "name": "stdout",
     "output_type": "stream",
     "text": [
      "Model: \"model_2\"\n",
      "_________________________________________________________________\n",
      "Layer (type)                 Output Shape              Param #   \n",
      "=================================================================\n",
      "input_2 (InputLayer)         (None, 3072)              0         \n",
      "_________________________________________________________________\n",
      "hidden_layer1 (Dense)        (None, 512)               1573376   \n",
      "_________________________________________________________________\n",
      "batch_normalization_4 (Batch (None, 512)               2048      \n",
      "_________________________________________________________________\n",
      "hidden_layer2 (Dense)        (None, 256)               131328    \n",
      "_________________________________________________________________\n",
      "batch_normalization_5 (Batch (None, 256)               1024      \n",
      "_________________________________________________________________\n",
      "hidden_layer3 (Dense)        (None, 128)               32896     \n",
      "_________________________________________________________________\n",
      "batch_normalization_6 (Batch (None, 128)               512       \n",
      "_________________________________________________________________\n",
      "output (Dense)               (None, 10)                1290      \n",
      "=================================================================\n",
      "Total params: 1,742,474\n",
      "Trainable params: 1,740,682\n",
      "Non-trainable params: 1,792\n",
      "_________________________________________________________________\n",
      "Train on 50000 samples, validate on 10000 samples\n",
      "Epoch 1/50\n",
      "50000/50000 [==============================] - 2s 45us/step - loss: 2.2077 - accuracy: 0.2721 - val_loss: 2.1099 - val_accuracy: 0.2059\n",
      "Epoch 2/50\n",
      "50000/50000 [==============================] - 2s 38us/step - loss: 1.7379 - accuracy: 0.3961 - val_loss: 1.9622 - val_accuracy: 0.2967\n",
      "Epoch 3/50\n",
      "50000/50000 [==============================] - 2s 37us/step - loss: 1.6165 - accuracy: 0.4346 - val_loss: 1.8269 - val_accuracy: 0.3729\n",
      "Epoch 4/50\n",
      "50000/50000 [==============================] - 2s 37us/step - loss: 1.5399 - accuracy: 0.4618 - val_loss: 1.7319 - val_accuracy: 0.4075\n",
      "Epoch 5/50\n",
      "50000/50000 [==============================] - 2s 37us/step - loss: 1.4853 - accuracy: 0.4812 - val_loss: 1.6395 - val_accuracy: 0.4328\n",
      "Epoch 6/50\n",
      "50000/50000 [==============================] - 2s 37us/step - loss: 1.4401 - accuracy: 0.4970 - val_loss: 1.5949 - val_accuracy: 0.4470\n",
      "Epoch 7/50\n",
      "50000/50000 [==============================] - 2s 37us/step - loss: 1.3983 - accuracy: 0.5123 - val_loss: 1.5525 - val_accuracy: 0.4545\n",
      "Epoch 8/50\n",
      "50000/50000 [==============================] - 2s 37us/step - loss: 1.3638 - accuracy: 0.5233 - val_loss: 1.5304 - val_accuracy: 0.4652\n",
      "Epoch 9/50\n",
      "50000/50000 [==============================] - 2s 36us/step - loss: 1.3306 - accuracy: 0.5364 - val_loss: 1.5096 - val_accuracy: 0.4691\n",
      "Epoch 10/50\n",
      "50000/50000 [==============================] - 2s 37us/step - loss: 1.2993 - accuracy: 0.5479 - val_loss: 1.5099 - val_accuracy: 0.4690\n",
      "Epoch 11/50\n",
      "50000/50000 [==============================] - 2s 36us/step - loss: 1.2717 - accuracy: 0.5573 - val_loss: 1.4984 - val_accuracy: 0.4755\n",
      "Epoch 12/50\n",
      "50000/50000 [==============================] - 2s 37us/step - loss: 1.2442 - accuracy: 0.5693 - val_loss: 1.4807 - val_accuracy: 0.4790\n",
      "Epoch 13/50\n",
      "50000/50000 [==============================] - 2s 37us/step - loss: 1.2177 - accuracy: 0.5784 - val_loss: 1.4814 - val_accuracy: 0.4784\n",
      "Epoch 14/50\n",
      "50000/50000 [==============================] - 2s 37us/step - loss: 1.1920 - accuracy: 0.5874 - val_loss: 1.4833 - val_accuracy: 0.4839\n",
      "Epoch 15/50\n",
      "50000/50000 [==============================] - 2s 37us/step - loss: 1.1674 - accuracy: 0.5979 - val_loss: 1.4755 - val_accuracy: 0.4826\n",
      "Epoch 16/50\n",
      "50000/50000 [==============================] - 2s 38us/step - loss: 1.1428 - accuracy: 0.6066 - val_loss: 1.4666 - val_accuracy: 0.4891\n",
      "Epoch 17/50\n",
      "50000/50000 [==============================] - 2s 38us/step - loss: 1.1184 - accuracy: 0.6164 - val_loss: 1.4669 - val_accuracy: 0.4833\n",
      "Epoch 18/50\n",
      "50000/50000 [==============================] - 2s 38us/step - loss: 1.0969 - accuracy: 0.6243 - val_loss: 1.4678 - val_accuracy: 0.4906\n",
      "Epoch 19/50\n",
      "50000/50000 [==============================] - 2s 37us/step - loss: 1.0761 - accuracy: 0.6319 - val_loss: 1.4805 - val_accuracy: 0.4892\n",
      "Epoch 20/50\n",
      "50000/50000 [==============================] - 2s 38us/step - loss: 1.0536 - accuracy: 0.6414 - val_loss: 1.4764 - val_accuracy: 0.4844\n",
      "Epoch 21/50\n",
      "50000/50000 [==============================] - 2s 38us/step - loss: 1.0298 - accuracy: 0.6497 - val_loss: 1.4659 - val_accuracy: 0.4940\n",
      "Epoch 22/50\n",
      "50000/50000 [==============================] - 2s 38us/step - loss: 1.0075 - accuracy: 0.6587 - val_loss: 1.4627 - val_accuracy: 0.4960\n",
      "Epoch 23/50\n",
      "50000/50000 [==============================] - 2s 37us/step - loss: 0.9869 - accuracy: 0.6680 - val_loss: 1.4724 - val_accuracy: 0.4922\n",
      "Epoch 24/50\n",
      "50000/50000 [==============================] - 2s 37us/step - loss: 0.9659 - accuracy: 0.6758 - val_loss: 1.4723 - val_accuracy: 0.4974\n",
      "Epoch 25/50\n",
      "50000/50000 [==============================] - 2s 37us/step - loss: 0.9474 - accuracy: 0.6836 - val_loss: 1.4787 - val_accuracy: 0.4963\n",
      "Epoch 26/50\n",
      "50000/50000 [==============================] - 2s 37us/step - loss: 0.9266 - accuracy: 0.6906 - val_loss: 1.4760 - val_accuracy: 0.4982\n",
      "Epoch 27/50\n",
      "50000/50000 [==============================] - 2s 38us/step - loss: 0.9052 - accuracy: 0.6996 - val_loss: 1.4790 - val_accuracy: 0.4957\n",
      "Epoch 28/50\n",
      "50000/50000 [==============================] - 2s 38us/step - loss: 0.8838 - accuracy: 0.7083 - val_loss: 1.5001 - val_accuracy: 0.4924\n",
      "Epoch 29/50\n",
      "50000/50000 [==============================] - 2s 38us/step - loss: 0.8655 - accuracy: 0.7139 - val_loss: 1.4887 - val_accuracy: 0.4980\n",
      "Epoch 30/50\n",
      "50000/50000 [==============================] - 2s 38us/step - loss: 0.8433 - accuracy: 0.7251 - val_loss: 1.5033 - val_accuracy: 0.4900\n",
      "Epoch 31/50\n",
      "50000/50000 [==============================] - 2s 36us/step - loss: 0.8241 - accuracy: 0.7311 - val_loss: 1.5015 - val_accuracy: 0.4970\n",
      "Epoch 32/50\n",
      "50000/50000 [==============================] - 2s 36us/step - loss: 0.8044 - accuracy: 0.7412 - val_loss: 1.5070 - val_accuracy: 0.4973\n",
      "Epoch 33/50\n",
      "50000/50000 [==============================] - 2s 37us/step - loss: 0.7857 - accuracy: 0.7474 - val_loss: 1.5227 - val_accuracy: 0.4952\n",
      "Epoch 34/50\n",
      "50000/50000 [==============================] - 2s 37us/step - loss: 0.7659 - accuracy: 0.7548 - val_loss: 1.5237 - val_accuracy: 0.4938\n",
      "Epoch 35/50\n",
      "50000/50000 [==============================] - 2s 38us/step - loss: 0.7472 - accuracy: 0.7630 - val_loss: 1.5510 - val_accuracy: 0.4903\n",
      "Epoch 36/50\n",
      "50000/50000 [==============================] - 2s 38us/step - loss: 0.7296 - accuracy: 0.7696 - val_loss: 1.5313 - val_accuracy: 0.4971\n",
      "Epoch 37/50\n",
      "50000/50000 [==============================] - 2s 37us/step - loss: 0.7105 - accuracy: 0.7772 - val_loss: 1.5503 - val_accuracy: 0.4865\n",
      "Epoch 38/50\n",
      "50000/50000 [==============================] - 2s 37us/step - loss: 0.6926 - accuracy: 0.7854 - val_loss: 1.5465 - val_accuracy: 0.4938\n",
      "Epoch 39/50\n",
      "50000/50000 [==============================] - 2s 37us/step - loss: 0.6719 - accuracy: 0.7939 - val_loss: 1.5653 - val_accuracy: 0.4884\n",
      "Epoch 40/50\n",
      "50000/50000 [==============================] - 2s 37us/step - loss: 0.6541 - accuracy: 0.7994 - val_loss: 1.5756 - val_accuracy: 0.4931\n",
      "Epoch 41/50\n",
      "50000/50000 [==============================] - 2s 38us/step - loss: 0.6372 - accuracy: 0.8081 - val_loss: 1.5807 - val_accuracy: 0.4834\n",
      "Epoch 42/50\n",
      "50000/50000 [==============================] - 2s 38us/step - loss: 0.6200 - accuracy: 0.8126 - val_loss: 1.6027 - val_accuracy: 0.4920\n",
      "Epoch 43/50\n",
      "50000/50000 [==============================] - 2s 37us/step - loss: 0.6005 - accuracy: 0.8217 - val_loss: 1.6107 - val_accuracy: 0.4913\n",
      "Epoch 44/50\n",
      "50000/50000 [==============================] - 2s 37us/step - loss: 0.5832 - accuracy: 0.8272 - val_loss: 1.6278 - val_accuracy: 0.4869\n",
      "Epoch 45/50\n",
      "50000/50000 [==============================] - 2s 36us/step - loss: 0.5673 - accuracy: 0.8351 - val_loss: 1.6353 - val_accuracy: 0.4832\n",
      "Epoch 46/50\n",
      "50000/50000 [==============================] - 2s 37us/step - loss: 0.5476 - accuracy: 0.8420 - val_loss: 1.6488 - val_accuracy: 0.4823\n",
      "Epoch 47/50\n",
      "50000/50000 [==============================] - 2s 38us/step - loss: 0.5321 - accuracy: 0.8483 - val_loss: 1.6485 - val_accuracy: 0.4886\n",
      "Epoch 00047: early stopping\n"
     ]
    }
   ],
   "source": [
    "earlystop = EarlyStopping(monitor=\"val_loss\", \n",
    "                          patience=25, \n",
    "                          verbose=1\n",
    "                          )\n",
    "\n",
    "model = build_mlp(input_shape=x_train.shape[1:])\n",
    "model.summary()\n",
    "optimizer = keras.optimizers.SGD(lr=LEARNING_RATE, nesterov=True, momentum=MOMENTUM)\n",
    "model.compile(loss=\"categorical_crossentropy\", metrics=[\"accuracy\"], optimizer=optimizer)\n",
    "\n",
    "model.fit(x_train, y_train, \n",
    "          epochs=EPOCHS, \n",
    "          batch_size=BATCH_SIZE, \n",
    "          validation_data=(x_test, y_test), \n",
    "          shuffle=True,\n",
    "          callbacks=[earlystop]\n",
    "         )\n",
    "train_loss = model.history.history[\"loss\"]\n",
    "valid_loss = model.history.history[\"val_loss\"]\n",
    "train_acc = model.history.history[\"accuracy\"]\n",
    "valid_acc = model.history.history[\"val_accuracy\"]\n",
    "results['25'] = {'train-loss': train_loss,\n",
    "                         'valid-loss': valid_loss,\n",
    "                         'train-acc': train_acc,\n",
    "                         'valid-acc': valid_acc}"
   ]
  },
  {
   "cell_type": "code",
   "execution_count": 11,
   "metadata": {},
   "outputs": [
    {
     "data": {
      "image/png": "[encoded data removed]",
      "text/plain": [
       "<Figure size 432x288 with 1 Axes>"
      ]
     },
     "metadata": {
      "needs_background": "light"
     },
     "output_type": "display_data"
    },
    {
     "data": {
      "image/png": "[encoded data removed]",
      "text/plain": [
       "<Figure size 432x288 with 1 Axes>"
      ]
     },
     "metadata": {
      "needs_background": "light"
     },
     "output_type": "display_data"
    },
    {
     "name": "stdout",
     "output_type": "stream",
     "text": [
      "{'10': {'train-loss': [2.229623928451538, 1.745126265525818, 1.6223815785980225, 1.5476489863204956, 1.493348466644287, 1.4501911568832397, 1.4079487198257445, 1.3728207498550415, 1.342100068588257, 1.312184662361145, 1.284491865348816, 1.2562352293777466, 1.2299348490905762, 1.2046619262695313, 1.1812853060913087, 1.1590555290985107, 1.136275997695923, 1.1129158744430543, 1.0906908375930786, 1.0688516373825072, 1.0486438898086547, 1.026205241241455, 1.0058803218078614, 0.9846615586090088, 0.9640457834815979, 0.9431317725181579, 0.9241680967330933, 0.903697220363617, 0.8823118507766724, 0.8642287990570069, 0.8441741772270203, 0.8250143412780762, 0.8039922445106507, 0.7859638005065918, 0.766952179813385, 0.7473683925056458, 0.7273543564033508, 0.7078926688957214, 0.6900471530532837, 0.6709760704803467, 0.6532633769416809, 0.6363718957519531, 0.6178363119888306, 0.5996773258781433, 0.5798688575935363, 0.5650503359222412, 0.5486201298713684, 0.5328984917640686, 0.5142397253417968, 0.4981776754760742], 'valid-loss': [2.1620273769378664, 1.9832363245010376, 1.842658408355713, 1.716395365524292, 1.6437633100509643, 1.591442211151123, 1.5561272562026978, 1.5316772436141968, 1.5133140287399292, 1.497595698928833, 1.4908149578094483, 1.4778497470855714, 1.4818090446472167, 1.4731822237014771, 1.4686205308914184, 1.4628236282348632, 1.4566526260375976, 1.458095104598999, 1.4578727321624756, 1.4649003637313842, 1.4598036045074463, 1.4605467084884645, 1.448825721168518, 1.454918724822998, 1.4654878190994263, 1.4712648653030396, 1.4688656522750854, 1.474713254547119, 1.4740629169464112, 1.4781316743850708, 1.4922620206832886, 1.483544302368164, 1.4942841510772704, 1.532781738090515, 1.5061163297653197, 1.522733469772339, 1.5408903440475463, 1.5376803546905518, 1.5473041790008546, 1.5643384033203125, 1.5889124240875243, 1.5674317911148072, 1.598749147796631, 1.6142475847244262, 1.621124739074707, 1.6415593152999879, 1.6301138938903807, 1.6296809720993042, 1.6550504301071167, 1.675880708694458], 'train-acc': [0.2673, 0.39104, 0.43276, 0.45882, 0.47852, 0.49116, 0.5051, 0.51958, 0.5304, 0.54078, 0.55094, 0.56134, 0.57244, 0.58006, 0.58972, 0.59726, 0.60652, 0.61706, 0.62444, 0.63326, 0.63978, 0.65026, 0.6587, 0.66596, 0.67448, 0.68222, 0.69008, 0.6985, 0.70612, 0.71426, 0.72186, 0.73118, 0.7376, 0.74516, 0.75328, 0.76092, 0.7677, 0.77594, 0.78434, 0.79242, 0.79726, 0.8047, 0.812, 0.82022, 0.82824, 0.83348, 0.84004, 0.8478, 0.85342, 0.861], 'valid-acc': [0.18039999902248383, 0.29030001163482666, 0.35370001196861267, 0.4097000062465668, 0.4259999990463257, 0.447299987077713, 0.454800009727478, 0.4595000147819519, 0.46299999952316284, 0.46779999136924744, 0.47679999470710754, 0.4772999882698059, 0.47760000824928284, 0.4772999882698059, 0.4880000054836273, 0.48590001463890076, 0.4880000054836273, 0.486299991607666, 0.4884999990463257, 0.48829999566078186, 0.49230000376701355, 0.4902999997138977, 0.49410000443458557, 0.49549999833106995, 0.4916999936103821, 0.4945000112056732, 0.4952999949455261, 0.5, 0.4934999942779541, 0.492000013589859, 0.4943000078201294, 0.5022000074386597, 0.5037999749183655, 0.4875999987125397, 0.4968999922275543, 0.4941999912261963, 0.49549999833106995, 0.49869999289512634, 0.4957999885082245, 0.499099999666214, 0.491100013256073, 0.4925000071525574, 0.48660001158714294, 0.4927000105381012, 0.4869000017642975, 0.4896000027656555, 0.48820000886917114, 0.49390000104904175, 0.4909000098705292, 0.48750001192092896]}, '25': {'train-loss': [2.20772183429718, 1.7378875984573365, 1.6165485068130494, 1.5399199297332764, 1.4852539585113524, 1.4400844037628173, 1.3983039445877075, 1.3638397637557984, 1.3306225540924073, 1.2992827505493163, 1.2716710320281983, 1.2441969242477418, 1.217667286529541, 1.192034450302124, 1.167413302307129, 1.1428387031555176, 1.1183823981475831, 1.0969345330810547, 1.0761427001190185, 1.0536451467132568, 1.0297649337005614, 1.0074585372543334, 0.9869268290138244, 0.965860846157074, 0.9474084583663941, 0.9265799646377564, 0.9052298202323914, 0.883764737148285, 0.8655386645889283, 0.84329181224823, 0.8241105551528931, 0.8044196860313415, 0.7856956760406494, 0.7658954570388794, 0.7471900182914734, 0.7295802989768982, 0.7105175456619263, 0.6925511203384399, 0.671934030303955, 0.6541353808021545, 0.6372083682250976, 0.6199675318145752, 0.6005423218536377, 0.5831543867492676, 0.5673214805603027, 0.547591646118164, 0.5320849753570557], 'valid-loss': [2.109939721298218, 1.9622311767578124, 1.8268533052444458, 1.7319493576049805, 1.6394867027282716, 1.5948536638259887, 1.552548246192932, 1.5303729112625122, 1.5096238401412965, 1.5099049339294432, 1.4983598358154298, 1.4807214832305908, 1.4814256744384766, 1.4833070955276488, 1.4754656730651856, 1.466628585243225, 1.466905736541748, 1.467787540626526, 1.4804620525360108, 1.4764192543029786, 1.4658582651138305, 1.462729310798645, 1.4724153352737426, 1.4723374256134034, 1.478696618270874, 1.4759949501037597, 1.4790221759796143, 1.500077688407898, 1.4886886003494262, 1.5033450395584107, 1.5015498552322388, 1.5070288778305054, 1.522735990524292, 1.5236555904388427, 1.5510386919021606, 1.5313463949203492, 1.5503276969909667, 1.5465199228286743, 1.5652851537704469, 1.575625163078308, 1.5806960693359375, 1.6026929342269898, 1.610683043861389, 1.6277670682907104, 1.6352993158340454, 1.648760570716858, 1.6485426498413085], 'train-acc': [0.27212, 0.39606, 0.43458, 0.46182, 0.48116, 0.49698, 0.51228, 0.52334, 0.53638, 0.54788, 0.5573, 0.56926, 0.5784, 0.58738, 0.59794, 0.60662, 0.61644, 0.62426, 0.63188, 0.6414, 0.64968, 0.65874, 0.66796, 0.6758, 0.68358, 0.69062, 0.69956, 0.70834, 0.71394, 0.72514, 0.73106, 0.74122, 0.74742, 0.7548, 0.76302, 0.76958, 0.77724, 0.7854, 0.79394, 0.7994, 0.80806, 0.81258, 0.82172, 0.82724, 0.8351, 0.84196, 0.84834], 'valid-acc': [0.20589999854564667, 0.29670000076293945, 0.37290000915527344, 0.4074999988079071, 0.4327999949455261, 0.44699999690055847, 0.4544999897480011, 0.4652000069618225, 0.4690999984741211, 0.4690000116825104, 0.4754999876022339, 0.4790000021457672, 0.47839999198913574, 0.4839000105857849, 0.48260000348091125, 0.48910000920295715, 0.48330000042915344, 0.49059998989105225, 0.48919999599456787, 0.4844000041484833, 0.49399998784065247, 0.4959999918937683, 0.49219998717308044, 0.4973999857902527, 0.49630001187324524, 0.498199999332428, 0.49570000171661377, 0.49239999055862427, 0.49799999594688416, 0.49000000953674316, 0.4970000088214874, 0.49729999899864197, 0.4952000081539154, 0.49380001425743103, 0.4902999997138977, 0.49709999561309814, 0.48649999499320984, 0.49380001425743103, 0.48840001225471497, 0.49309998750686646, 0.48339998722076416, 0.492000013589859, 0.49129998683929443, 0.4869000017642975, 0.4832000136375427, 0.4823000133037567, 0.4885999858379364]}}\n"
     ]
    }
   ],
   "source": [
    "plt.plot(range(len(train_loss)), train_loss, label=\"train loss\")\n",
    "plt.plot(range(len(valid_loss)), valid_loss, label=\"valid loss\")\n",
    "plt.legend()\n",
    "plt.title(\"Loss\")\n",
    "plt.show()\n",
    "\n",
    "plt.plot(range(len(train_acc)), train_acc, label=\"train accuracy\")\n",
    "plt.plot(range(len(valid_acc)), valid_acc, label=\"valid accuracy\")\n",
    "plt.legend()\n",
    "plt.title(\"Accuracy\")\n",
    "plt.show()\n",
    "\n",
    "print(results)"
   ]
  }
 ],
 "metadata": {
  "kernelspec": {
   "display_name": "Python 3",
   "language": "python",
   "name": "python3"
  },
  "language_info": {
   "codemirror_mode": {
    "name": "ipython",
    "version": 3
   },
   "file_extension": ".py",
   "mimetype": "text/x-python",
   "name": "python",
   "nbconvert_exporter": "python",
   "pygments_lexer": "ipython3",
   "version": "3.6.7"
  }
 },
 "nbformat": 4,
 "nbformat_minor": 2
}
