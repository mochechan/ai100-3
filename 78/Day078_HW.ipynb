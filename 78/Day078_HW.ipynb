{
 "cells": [
  {
   "cell_type": "markdown",
   "metadata": {},
   "source": [
    "## Work\n",
    "1. 請嘗試將 preproc_x 替換成以每筆資料的 min/max 進行標準化至 -1 ~ 1 間，再進行訓練\n",
    "2. 請嘗試將 mlp 疊更深 (e.g 5~10 層)，進行訓練後觀察 learning curve 的走勢\n",
    "3. (optional) 請改用 GPU 進行訓練 (如果你有 GPU 的話)，比較使用 CPU 與 GPU 的訓練速度"
   ]
  },
  {
   "cell_type": "code",
   "execution_count": 1,
   "metadata": {},
   "outputs": [
    {
     "name": "stdout",
     "output_type": "stream",
     "text": [
      "Collecting package metadata (current_repodata.json): done\n",
      "Solving environment: done\n",
      "\n",
      "\n",
      "==> WARNING: A newer version of conda exists. <==\n",
      "  current version: 4.7.10\n",
      "  latest version: 4.7.12\n",
      "\n",
      "Please update conda by running\n",
      "\n",
      "    $ conda update -n base conda\n",
      "\n",
      "\n",
      "\n",
      "# All requested packages already installed.\n",
      "\n"
     ]
    },
    {
     "data": {
      "text/plain": [
       "'\\nYour code here (optional)\\n確認硬體資源\\n'"
      ]
     },
     "execution_count": 1,
     "metadata": {},
     "output_type": "execute_result"
    }
   ],
   "source": [
    "!conda install -y tensorflow==1.14.0 keras\n",
    "## \n",
    "\"\"\"\n",
    "Your code here (optional)\n",
    "確認硬體資源\n",
    "\"\"\"\n"
   ]
  },
  {
   "cell_type": "code",
   "execution_count": 2,
   "metadata": {},
   "outputs": [
    {
     "name": "stderr",
     "output_type": "stream",
     "text": [
      "Using TensorFlow backend.\n",
      "/opt/conda/lib/python3.7/site-packages/tensorflow/python/framework/dtypes.py:516: FutureWarning: Passing (type, 1) or '1type' as a synonym of type is deprecated; in a future version of numpy, it will be understood as (type, (1,)) / '(1,)type'.\n",
      "  _np_qint8 = np.dtype([(\"qint8\", np.int8, 1)])\n",
      "/opt/conda/lib/python3.7/site-packages/tensorflow/python/framework/dtypes.py:517: FutureWarning: Passing (type, 1) or '1type' as a synonym of type is deprecated; in a future version of numpy, it will be understood as (type, (1,)) / '(1,)type'.\n",
      "  _np_quint8 = np.dtype([(\"quint8\", np.uint8, 1)])\n",
      "/opt/conda/lib/python3.7/site-packages/tensorflow/python/framework/dtypes.py:518: FutureWarning: Passing (type, 1) or '1type' as a synonym of type is deprecated; in a future version of numpy, it will be understood as (type, (1,)) / '(1,)type'.\n",
      "  _np_qint16 = np.dtype([(\"qint16\", np.int16, 1)])\n",
      "/opt/conda/lib/python3.7/site-packages/tensorflow/python/framework/dtypes.py:519: FutureWarning: Passing (type, 1) or '1type' as a synonym of type is deprecated; in a future version of numpy, it will be understood as (type, (1,)) / '(1,)type'.\n",
      "  _np_quint16 = np.dtype([(\"quint16\", np.uint16, 1)])\n",
      "/opt/conda/lib/python3.7/site-packages/tensorflow/python/framework/dtypes.py:520: FutureWarning: Passing (type, 1) or '1type' as a synonym of type is deprecated; in a future version of numpy, it will be understood as (type, (1,)) / '(1,)type'.\n",
      "  _np_qint32 = np.dtype([(\"qint32\", np.int32, 1)])\n",
      "/opt/conda/lib/python3.7/site-packages/tensorflow/python/framework/dtypes.py:525: FutureWarning: Passing (type, 1) or '1type' as a synonym of type is deprecated; in a future version of numpy, it will be understood as (type, (1,)) / '(1,)type'.\n",
      "  np_resource = np.dtype([(\"resource\", np.ubyte, 1)])\n",
      "/opt/conda/lib/python3.7/site-packages/tensorboard/compat/tensorflow_stub/dtypes.py:541: FutureWarning: Passing (type, 1) or '1type' as a synonym of type is deprecated; in a future version of numpy, it will be understood as (type, (1,)) / '(1,)type'.\n",
      "  _np_qint8 = np.dtype([(\"qint8\", np.int8, 1)])\n",
      "/opt/conda/lib/python3.7/site-packages/tensorboard/compat/tensorflow_stub/dtypes.py:542: FutureWarning: Passing (type, 1) or '1type' as a synonym of type is deprecated; in a future version of numpy, it will be understood as (type, (1,)) / '(1,)type'.\n",
      "  _np_quint8 = np.dtype([(\"quint8\", np.uint8, 1)])\n",
      "/opt/conda/lib/python3.7/site-packages/tensorboard/compat/tensorflow_stub/dtypes.py:543: FutureWarning: Passing (type, 1) or '1type' as a synonym of type is deprecated; in a future version of numpy, it will be understood as (type, (1,)) / '(1,)type'.\n",
      "  _np_qint16 = np.dtype([(\"qint16\", np.int16, 1)])\n",
      "/opt/conda/lib/python3.7/site-packages/tensorboard/compat/tensorflow_stub/dtypes.py:544: FutureWarning: Passing (type, 1) or '1type' as a synonym of type is deprecated; in a future version of numpy, it will be understood as (type, (1,)) / '(1,)type'.\n",
      "  _np_quint16 = np.dtype([(\"quint16\", np.uint16, 1)])\n",
      "/opt/conda/lib/python3.7/site-packages/tensorboard/compat/tensorflow_stub/dtypes.py:545: FutureWarning: Passing (type, 1) or '1type' as a synonym of type is deprecated; in a future version of numpy, it will be understood as (type, (1,)) / '(1,)type'.\n",
      "  _np_qint32 = np.dtype([(\"qint32\", np.int32, 1)])\n",
      "/opt/conda/lib/python3.7/site-packages/tensorboard/compat/tensorflow_stub/dtypes.py:550: FutureWarning: Passing (type, 1) or '1type' as a synonym of type is deprecated; in a future version of numpy, it will be understood as (type, (1,)) / '(1,)type'.\n",
      "  np_resource = np.dtype([(\"resource\", np.ubyte, 1)])\n"
     ]
    }
   ],
   "source": [
    "import os\n",
    "import keras\n",
    "\n",
    "# 請嘗試設定 GPU：os.environ\n"
   ]
  },
  {
   "cell_type": "code",
   "execution_count": 3,
   "metadata": {},
   "outputs": [],
   "source": [
    "train, test = keras.datasets.cifar10.load_data()"
   ]
  },
  {
   "cell_type": "code",
   "execution_count": 4,
   "metadata": {},
   "outputs": [],
   "source": [
    "## 資料前處理\n",
    "\"\"\"\n",
    "Your code here\n",
    "\"\"\"\n",
    "def preproc_x(x,flatten=True):\n",
    "    x = 2*(((x - x.min()) / (x.max() - x.min()))-0.5)\n",
    "    if flatten:\n",
    "        x = x.reshape((len(x), -1))\n",
    "    return x\n",
    "\n",
    "def preproc_y(y,num_classes=10):\n",
    "    if y.shape[-1] == 1:\n",
    "        y = keras.utils.to_categorical(y, num_classes)\n",
    "    return y"
   ]
  },
  {
   "cell_type": "code",
   "execution_count": 16,
   "metadata": {},
   "outputs": [
    {
     "name": "stdout",
     "output_type": "stream",
     "text": [
      "(50000, 32, 32, 3) (50000, 1)\n",
      "(10000, 32, 32, 3) (10000, 1)\n",
      "(50000, 3072) (50000, 10)\n",
      "(10000, 3072) (10000, 10)\n"
     ]
    }
   ],
   "source": [
    "x_train, y_train = train\n",
    "x_test, y_test = test\n",
    "print(x_train.shape, y_train.shape)\n",
    "print(x_test.shape, y_test.shape)\n",
    "# Preproc the inputs\n",
    "x_train = preproc_x(x_train)\n",
    "x_test = preproc_x(x_test)\n",
    "\n",
    "# Preprc the outputs\n",
    "y_train = preproc_y(y_train)\n",
    "y_test = preproc_y(y_test)\n",
    "print(x_train.shape, y_train.shape)\n",
    "print(x_test.shape, y_test.shape)"
   ]
  },
  {
   "cell_type": "code",
   "execution_count": 17,
   "metadata": {},
   "outputs": [
    {
     "name": "stdout",
     "output_type": "stream",
     "text": [
      "Model: \"model_2\"\n",
      "_________________________________________________________________\n",
      "Layer (type)                 Output Shape              Param #   \n",
      "=================================================================\n",
      "input_2 (InputLayer)         (None, 3072)              0         \n",
      "_________________________________________________________________\n",
      "hidden_layer1 (Dense)        (None, 512)               1573376   \n",
      "_________________________________________________________________\n",
      "hidden_layer2 (Dense)        (None, 256)               131328    \n",
      "_________________________________________________________________\n",
      "hidden_layer3 (Dense)        (None, 128)               32896     \n",
      "_________________________________________________________________\n",
      "hidden_layer4 (Dense)        (None, 128)               16512     \n",
      "_________________________________________________________________\n",
      "hidden_layer5 (Dense)        (None, 128)               16512     \n",
      "_________________________________________________________________\n",
      "output (Dense)               (None, 10)                1290      \n",
      "=================================================================\n",
      "Total params: 1,771,914\n",
      "Trainable params: 1,771,914\n",
      "Non-trainable params: 0\n",
      "_________________________________________________________________\n"
     ]
    }
   ],
   "source": [
    "#print(x_train)\n",
    "\"\"\"Code Here\n",
    "建立你的神經網路\n",
    "\"\"\"\n",
    "def build_mlp(input_shape, output_units=10, num_neurons=[512, 256, 128, 128, 128]):\n",
    "    input_layer = keras.layers.Input(input_shape)\n",
    "    \n",
    "    for i, n_units in enumerate(num_neurons):\n",
    "        if i == 0:\n",
    "            x = keras.layers.Dense(units=n_units, activation=\"relu\", name=\"hidden_layer\"+str(i+1))(input_layer)\n",
    "        else:\n",
    "            x = keras.layers.Dense(units=n_units, activation=\"relu\", name=\"hidden_layer\"+str(i+1))(x)\n",
    "    \n",
    "    out = keras.layers.Dense(units=output_units, activation=\"softmax\", name=\"output\")(x)\n",
    "    \n",
    "    model = keras.models.Model(inputs=[input_layer], outputs=[out])\n",
    "    return model\n",
    "model = build_mlp(input_shape=x_train.shape[1:])\n",
    "model.summary()"
   ]
  },
  {
   "cell_type": "code",
   "execution_count": 18,
   "metadata": {},
   "outputs": [],
   "source": [
    "## 超參數設定\n",
    "LEARNING_RATE = 0.001\n",
    "EPOCHS = 100\n",
    "BATCH_SIZE = 256"
   ]
  },
  {
   "cell_type": "code",
   "execution_count": 19,
   "metadata": {},
   "outputs": [],
   "source": [
    "optimizer = keras.optimizers.Adam(lr=LEARNING_RATE)\n",
    "model.compile(loss=\"categorical_crossentropy\", metrics=[\"accuracy\"], optimizer=optimizer)"
   ]
  },
  {
   "cell_type": "code",
   "execution_count": 20,
   "metadata": {},
   "outputs": [
    {
     "name": "stdout",
     "output_type": "stream",
     "text": [
      "WARNING:tensorflow:From /opt/conda/lib/python3.7/site-packages/keras/backend/tensorflow_backend.py:422: The name tf.global_variables is deprecated. Please use tf.compat.v1.global_variables instead.\n",
      "\n",
      "Train on 50000 samples, validate on 10000 samples\n",
      "Epoch 1/100\n",
      "50000/50000 [==============================] - 7s 130us/step - loss: 1.6877 - accuracy: 0.3985 - val_loss: 1.5515 - val_accuracy: 0.4524\n",
      "Epoch 2/100\n",
      "50000/50000 [==============================] - 6s 122us/step - loss: 1.4663 - accuracy: 0.4814 - val_loss: 1.4311 - val_accuracy: 0.4970\n",
      "Epoch 3/100\n",
      "50000/50000 [==============================] - 6s 120us/step - loss: 1.3414 - accuracy: 0.5281 - val_loss: 1.4172 - val_accuracy: 0.4963\n",
      "Epoch 4/100\n",
      "50000/50000 [==============================] - 6s 121us/step - loss: 1.2484 - accuracy: 0.5592 - val_loss: 1.3861 - val_accuracy: 0.5070\n",
      "Epoch 5/100\n",
      "50000/50000 [==============================] - 6s 121us/step - loss: 1.1732 - accuracy: 0.5850 - val_loss: 1.3393 - val_accuracy: 0.5349\n",
      "Epoch 6/100\n",
      "50000/50000 [==============================] - 6s 121us/step - loss: 1.0875 - accuracy: 0.6141 - val_loss: 1.3801 - val_accuracy: 0.5308\n",
      "Epoch 7/100\n",
      "50000/50000 [==============================] - 6s 121us/step - loss: 1.0182 - accuracy: 0.6373 - val_loss: 1.3645 - val_accuracy: 0.5338\n",
      "Epoch 8/100\n",
      "50000/50000 [==============================] - 6s 121us/step - loss: 0.9461 - accuracy: 0.6653 - val_loss: 1.3911 - val_accuracy: 0.5423\n",
      "Epoch 9/100\n",
      "50000/50000 [==============================] - 6s 122us/step - loss: 0.8817 - accuracy: 0.6870 - val_loss: 1.4127 - val_accuracy: 0.5380\n",
      "Epoch 10/100\n",
      "50000/50000 [==============================] - 6s 122us/step - loss: 0.8066 - accuracy: 0.7120 - val_loss: 1.4425 - val_accuracy: 0.5404\n",
      "Epoch 11/100\n",
      "50000/50000 [==============================] - 6s 122us/step - loss: 0.7433 - accuracy: 0.7350 - val_loss: 1.5410 - val_accuracy: 0.5384\n",
      "Epoch 12/100\n",
      "50000/50000 [==============================] - 6s 121us/step - loss: 0.6797 - accuracy: 0.7594 - val_loss: 1.5847 - val_accuracy: 0.5415\n",
      "Epoch 13/100\n",
      "50000/50000 [==============================] - 6s 122us/step - loss: 0.6278 - accuracy: 0.7770 - val_loss: 1.6335 - val_accuracy: 0.5348\n",
      "Epoch 14/100\n",
      "50000/50000 [==============================] - 6s 123us/step - loss: 0.5762 - accuracy: 0.7945 - val_loss: 1.7043 - val_accuracy: 0.5335\n",
      "Epoch 15/100\n",
      "50000/50000 [==============================] - 6s 123us/step - loss: 0.5352 - accuracy: 0.8102 - val_loss: 1.8462 - val_accuracy: 0.5365\n",
      "Epoch 16/100\n",
      "50000/50000 [==============================] - 6s 123us/step - loss: 0.4878 - accuracy: 0.8289 - val_loss: 1.9230 - val_accuracy: 0.5359\n",
      "Epoch 17/100\n",
      "50000/50000 [==============================] - 6s 124us/step - loss: 0.4473 - accuracy: 0.8428 - val_loss: 2.0483 - val_accuracy: 0.5342\n",
      "Epoch 18/100\n",
      "50000/50000 [==============================] - 6s 123us/step - loss: 0.4084 - accuracy: 0.8553 - val_loss: 2.0733 - val_accuracy: 0.5281\n",
      "Epoch 19/100\n",
      "50000/50000 [==============================] - 6s 124us/step - loss: 0.3685 - accuracy: 0.8679 - val_loss: 2.1428 - val_accuracy: 0.5260\n",
      "Epoch 20/100\n",
      "50000/50000 [==============================] - 6s 124us/step - loss: 0.3449 - accuracy: 0.8779 - val_loss: 2.2493 - val_accuracy: 0.5365\n",
      "Epoch 21/100\n",
      "50000/50000 [==============================] - 6s 123us/step - loss: 0.3242 - accuracy: 0.8862 - val_loss: 2.3252 - val_accuracy: 0.5292\n",
      "Epoch 22/100\n",
      "50000/50000 [==============================] - 6s 123us/step - loss: 0.3169 - accuracy: 0.8897 - val_loss: 2.4009 - val_accuracy: 0.5180\n",
      "Epoch 23/100\n",
      "50000/50000 [==============================] - 6s 126us/step - loss: 0.2905 - accuracy: 0.8987 - val_loss: 2.5398 - val_accuracy: 0.5203\n",
      "Epoch 24/100\n",
      "50000/50000 [==============================] - 6s 124us/step - loss: 0.2690 - accuracy: 0.9059 - val_loss: 2.6214 - val_accuracy: 0.5275\n",
      "Epoch 25/100\n",
      "50000/50000 [==============================] - 6s 124us/step - loss: 0.2512 - accuracy: 0.9122 - val_loss: 2.7276 - val_accuracy: 0.5299\n",
      "Epoch 26/100\n",
      "50000/50000 [==============================] - 6s 125us/step - loss: 0.2519 - accuracy: 0.9120 - val_loss: 2.8442 - val_accuracy: 0.5344\n",
      "Epoch 27/100\n",
      "50000/50000 [==============================] - 6s 125us/step - loss: 0.2282 - accuracy: 0.9205 - val_loss: 2.8719 - val_accuracy: 0.5330\n",
      "Epoch 28/100\n",
      "50000/50000 [==============================] - 6s 125us/step - loss: 0.2223 - accuracy: 0.9227 - val_loss: 2.8086 - val_accuracy: 0.5203\n",
      "Epoch 29/100\n",
      "50000/50000 [==============================] - 6s 125us/step - loss: 0.2204 - accuracy: 0.9241 - val_loss: 2.8896 - val_accuracy: 0.5253\n",
      "Epoch 30/100\n",
      "50000/50000 [==============================] - 6s 127us/step - loss: 0.1840 - accuracy: 0.9368 - val_loss: 3.1576 - val_accuracy: 0.5280\n",
      "Epoch 31/100\n",
      "50000/50000 [==============================] - 6s 128us/step - loss: 0.1981 - accuracy: 0.9314 - val_loss: 3.1246 - val_accuracy: 0.5329\n",
      "Epoch 32/100\n",
      "50000/50000 [==============================] - 6s 126us/step - loss: 0.2035 - accuracy: 0.9300 - val_loss: 3.0953 - val_accuracy: 0.5362\n",
      "Epoch 33/100\n",
      "50000/50000 [==============================] - 6s 127us/step - loss: 0.1713 - accuracy: 0.9408 - val_loss: 3.1040 - val_accuracy: 0.5207\n",
      "Epoch 34/100\n",
      "50000/50000 [==============================] - 6s 129us/step - loss: 0.1789 - accuracy: 0.9376 - val_loss: 3.3657 - val_accuracy: 0.5333\n",
      "Epoch 35/100\n",
      "50000/50000 [==============================] - 6s 128us/step - loss: 0.1805 - accuracy: 0.9387 - val_loss: 3.2711 - val_accuracy: 0.5230\n",
      "Epoch 36/100\n",
      "50000/50000 [==============================] - 6s 129us/step - loss: 0.1659 - accuracy: 0.9428 - val_loss: 3.3856 - val_accuracy: 0.5204\n",
      "Epoch 37/100\n",
      "50000/50000 [==============================] - 6s 129us/step - loss: 0.1500 - accuracy: 0.9493 - val_loss: 3.6047 - val_accuracy: 0.5252\n",
      "Epoch 38/100\n",
      "50000/50000 [==============================] - 6s 130us/step - loss: 0.1613 - accuracy: 0.9453 - val_loss: 3.3849 - val_accuracy: 0.5317\n",
      "Epoch 39/100\n",
      "50000/50000 [==============================] - 7s 132us/step - loss: 0.1572 - accuracy: 0.9470 - val_loss: 3.4087 - val_accuracy: 0.5332\n",
      "Epoch 40/100\n",
      "50000/50000 [==============================] - 7s 131us/step - loss: 0.1497 - accuracy: 0.9479 - val_loss: 3.4695 - val_accuracy: 0.5220\n",
      "Epoch 41/100\n",
      "50000/50000 [==============================] - 7s 131us/step - loss: 0.1558 - accuracy: 0.9473 - val_loss: 3.4164 - val_accuracy: 0.5240\n",
      "Epoch 42/100\n",
      "50000/50000 [==============================] - 7s 132us/step - loss: 0.1313 - accuracy: 0.9557 - val_loss: 3.6609 - val_accuracy: 0.5246\n",
      "Epoch 43/100\n",
      "50000/50000 [==============================] - 7s 132us/step - loss: 0.1463 - accuracy: 0.9495 - val_loss: 3.4379 - val_accuracy: 0.5303\n",
      "Epoch 44/100\n",
      "50000/50000 [==============================] - 7s 131us/step - loss: 0.1150 - accuracy: 0.9617 - val_loss: 3.6981 - val_accuracy: 0.5290\n",
      "Epoch 45/100\n",
      "50000/50000 [==============================] - 7s 132us/step - loss: 0.1428 - accuracy: 0.9515 - val_loss: 3.6866 - val_accuracy: 0.5304\n",
      "Epoch 46/100\n",
      "50000/50000 [==============================] - 7s 133us/step - loss: 0.1485 - accuracy: 0.9499 - val_loss: 3.5500 - val_accuracy: 0.5274\n",
      "Epoch 47/100\n",
      "50000/50000 [==============================] - 7s 132us/step - loss: 0.1259 - accuracy: 0.9590 - val_loss: 3.6693 - val_accuracy: 0.5375\n",
      "Epoch 48/100\n",
      "50000/50000 [==============================] - 7s 132us/step - loss: 0.1230 - accuracy: 0.9595 - val_loss: 3.7657 - val_accuracy: 0.5252\n",
      "Epoch 49/100\n",
      "50000/50000 [==============================] - 7s 133us/step - loss: 0.1169 - accuracy: 0.9599 - val_loss: 3.8089 - val_accuracy: 0.5230\n",
      "Epoch 50/100\n",
      "50000/50000 [==============================] - 7s 134us/step - loss: 0.1304 - accuracy: 0.9572 - val_loss: 3.8857 - val_accuracy: 0.5291\n",
      "Epoch 51/100\n",
      "50000/50000 [==============================] - 7s 133us/step - loss: 0.1021 - accuracy: 0.9650 - val_loss: 3.7864 - val_accuracy: 0.5325\n",
      "Epoch 52/100\n",
      "50000/50000 [==============================] - 7s 134us/step - loss: 0.1303 - accuracy: 0.9568 - val_loss: 3.5316 - val_accuracy: 0.5322\n",
      "Epoch 53/100\n",
      "50000/50000 [==============================] - 7s 133us/step - loss: 0.1026 - accuracy: 0.9665 - val_loss: 3.8833 - val_accuracy: 0.5327\n",
      "Epoch 54/100\n",
      "50000/50000 [==============================] - 7s 132us/step - loss: 0.1036 - accuracy: 0.9652 - val_loss: 3.9482 - val_accuracy: 0.5293\n",
      "Epoch 55/100\n",
      "50000/50000 [==============================] - 6s 130us/step - loss: 0.1110 - accuracy: 0.9636 - val_loss: 3.8358 - val_accuracy: 0.5286\n",
      "Epoch 56/100\n",
      "50000/50000 [==============================] - 7s 130us/step - loss: 0.1313 - accuracy: 0.9565 - val_loss: 3.8707 - val_accuracy: 0.5314\n",
      "Epoch 57/100\n",
      "50000/50000 [==============================] - 7s 131us/step - loss: 0.1064 - accuracy: 0.9650 - val_loss: 3.8335 - val_accuracy: 0.5278\n",
      "Epoch 58/100\n",
      "50000/50000 [==============================] - 6s 127us/step - loss: 0.0996 - accuracy: 0.9673 - val_loss: 3.8842 - val_accuracy: 0.5267\n",
      "Epoch 59/100\n",
      "50000/50000 [==============================] - 6s 125us/step - loss: 0.1082 - accuracy: 0.9631 - val_loss: 4.0401 - val_accuracy: 0.5360\n",
      "Epoch 60/100\n",
      "50000/50000 [==============================] - 6s 125us/step - loss: 0.1038 - accuracy: 0.9666 - val_loss: 3.9460 - val_accuracy: 0.5264\n",
      "Epoch 61/100\n",
      "50000/50000 [==============================] - 6s 127us/step - loss: 0.1185 - accuracy: 0.9613 - val_loss: 3.8816 - val_accuracy: 0.5354\n",
      "Epoch 62/100\n",
      "50000/50000 [==============================] - 6s 128us/step - loss: 0.0869 - accuracy: 0.9716 - val_loss: 4.1893 - val_accuracy: 0.5349\n",
      "Epoch 63/100\n",
      "50000/50000 [==============================] - 6s 126us/step - loss: 0.1096 - accuracy: 0.9637 - val_loss: 3.9088 - val_accuracy: 0.5366\n",
      "Epoch 64/100\n",
      "50000/50000 [==============================] - 6s 127us/step - loss: 0.0909 - accuracy: 0.9702 - val_loss: 4.0793 - val_accuracy: 0.5331\n",
      "Epoch 65/100\n",
      "50000/50000 [==============================] - 6s 127us/step - loss: 0.0930 - accuracy: 0.9693 - val_loss: 3.9463 - val_accuracy: 0.5324\n",
      "Epoch 66/100\n",
      "50000/50000 [==============================] - 7s 140us/step - loss: 0.0924 - accuracy: 0.9698 - val_loss: 4.0072 - val_accuracy: 0.5282\n",
      "Epoch 67/100\n",
      "50000/50000 [==============================] - 7s 142us/step - loss: 0.1103 - accuracy: 0.9640 - val_loss: 3.9701 - val_accuracy: 0.5330\n",
      "Epoch 68/100\n",
      "50000/50000 [==============================] - 7s 150us/step - loss: 0.0846 - accuracy: 0.9724 - val_loss: 4.2005 - val_accuracy: 0.5281\n",
      "Epoch 69/100\n",
      "50000/50000 [==============================] - 7s 136us/step - loss: 0.0893 - accuracy: 0.9711 - val_loss: 4.1646 - val_accuracy: 0.5348\n",
      "Epoch 70/100\n",
      "50000/50000 [==============================] - 7s 130us/step - loss: 0.0727 - accuracy: 0.9770 - val_loss: 4.3222 - val_accuracy: 0.5324\n",
      "Epoch 71/100\n",
      "50000/50000 [==============================] - 7s 132us/step - loss: 0.0906 - accuracy: 0.9707 - val_loss: 4.0646 - val_accuracy: 0.5224\n",
      "Epoch 72/100\n",
      "50000/50000 [==============================] - 6s 130us/step - loss: 0.1059 - accuracy: 0.9657 - val_loss: 4.1243 - val_accuracy: 0.5354\n",
      "Epoch 73/100\n",
      "50000/50000 [==============================] - 7s 130us/step - loss: 0.0872 - accuracy: 0.9723 - val_loss: 3.9697 - val_accuracy: 0.5334\n",
      "Epoch 74/100\n",
      "50000/50000 [==============================] - 6s 129us/step - loss: 0.0798 - accuracy: 0.9739 - val_loss: 4.1345 - val_accuracy: 0.5325\n",
      "Epoch 75/100\n",
      "50000/50000 [==============================] - 7s 132us/step - loss: 0.0991 - accuracy: 0.9677 - val_loss: 4.2174 - val_accuracy: 0.5279\n",
      "Epoch 76/100\n",
      "50000/50000 [==============================] - 6s 129us/step - loss: 0.0793 - accuracy: 0.9741 - val_loss: 4.3371 - val_accuracy: 0.5292\n",
      "Epoch 77/100\n",
      "50000/50000 [==============================] - 6s 129us/step - loss: 0.0768 - accuracy: 0.9745 - val_loss: 4.3478 - val_accuracy: 0.5337\n",
      "Epoch 78/100\n",
      "50000/50000 [==============================] - 6s 130us/step - loss: 0.0832 - accuracy: 0.9733 - val_loss: 4.2412 - val_accuracy: 0.5328\n",
      "Epoch 79/100\n",
      "50000/50000 [==============================] - 7s 132us/step - loss: 0.0994 - accuracy: 0.9675 - val_loss: 4.2730 - val_accuracy: 0.5258\n",
      "Epoch 80/100\n",
      "50000/50000 [==============================] - 7s 131us/step - loss: 0.0810 - accuracy: 0.9732 - val_loss: 4.3088 - val_accuracy: 0.5294\n",
      "Epoch 81/100\n",
      "50000/50000 [==============================] - 7s 132us/step - loss: 0.0773 - accuracy: 0.9747 - val_loss: 4.3815 - val_accuracy: 0.5324\n",
      "Epoch 82/100\n",
      "50000/50000 [==============================] - 7s 132us/step - loss: 0.0790 - accuracy: 0.9747 - val_loss: 4.4220 - val_accuracy: 0.5280\n",
      "Epoch 83/100\n",
      "50000/50000 [==============================] - 7s 132us/step - loss: 0.0735 - accuracy: 0.9761 - val_loss: 4.3751 - val_accuracy: 0.5326\n",
      "Epoch 84/100\n",
      "50000/50000 [==============================] - 7s 133us/step - loss: 0.0781 - accuracy: 0.9753 - val_loss: 4.2403 - val_accuracy: 0.5315\n",
      "Epoch 85/100\n",
      "50000/50000 [==============================] - 7s 140us/step - loss: 0.0782 - accuracy: 0.9745 - val_loss: 4.3387 - val_accuracy: 0.5291\n",
      "Epoch 86/100\n",
      "50000/50000 [==============================] - 7s 134us/step - loss: 0.0807 - accuracy: 0.9745 - val_loss: 4.3636 - val_accuracy: 0.5306\n",
      "Epoch 87/100\n",
      "50000/50000 [==============================] - 7s 133us/step - loss: 0.0759 - accuracy: 0.9758 - val_loss: 4.2819 - val_accuracy: 0.5258\n",
      "Epoch 88/100\n",
      "50000/50000 [==============================] - 7s 133us/step - loss: 0.0691 - accuracy: 0.9782 - val_loss: 4.2961 - val_accuracy: 0.5304\n",
      "Epoch 89/100\n",
      "50000/50000 [==============================] - 7s 147us/step - loss: 0.0881 - accuracy: 0.9719 - val_loss: 4.3828 - val_accuracy: 0.5263\n",
      "Epoch 90/100\n",
      "50000/50000 [==============================] - 6s 127us/step - loss: 0.0789 - accuracy: 0.9745 - val_loss: 4.3664 - val_accuracy: 0.5334\n",
      "Epoch 91/100\n",
      "50000/50000 [==============================] - 7s 130us/step - loss: 0.0743 - accuracy: 0.9758 - val_loss: 4.3264 - val_accuracy: 0.5311\n",
      "Epoch 92/100\n",
      "50000/50000 [==============================] - 7s 130us/step - loss: 0.0617 - accuracy: 0.9802 - val_loss: 4.3130 - val_accuracy: 0.5296\n",
      "Epoch 93/100\n",
      "50000/50000 [==============================] - 7s 130us/step - loss: 0.0877 - accuracy: 0.9723 - val_loss: 4.1502 - val_accuracy: 0.5291\n",
      "Epoch 94/100\n",
      "50000/50000 [==============================] - 7s 130us/step - loss: 0.0648 - accuracy: 0.9781 - val_loss: 4.5725 - val_accuracy: 0.5334\n",
      "Epoch 95/100\n",
      "50000/50000 [==============================] - 7s 132us/step - loss: 0.0590 - accuracy: 0.9818 - val_loss: 4.4984 - val_accuracy: 0.5377\n",
      "Epoch 96/100\n",
      "50000/50000 [==============================] - 7s 131us/step - loss: 0.0787 - accuracy: 0.9743 - val_loss: 4.2053 - val_accuracy: 0.5365\n",
      "Epoch 97/100\n",
      "50000/50000 [==============================] - 7s 131us/step - loss: 0.0773 - accuracy: 0.9758 - val_loss: 4.3681 - val_accuracy: 0.5280\n",
      "Epoch 98/100\n",
      "50000/50000 [==============================] - 7s 132us/step - loss: 0.0726 - accuracy: 0.9769 - val_loss: 4.2334 - val_accuracy: 0.5391\n",
      "Epoch 99/100\n",
      "50000/50000 [==============================] - 7s 131us/step - loss: 0.0622 - accuracy: 0.9798 - val_loss: 4.3728 - val_accuracy: 0.5373\n",
      "Epoch 100/100\n",
      "50000/50000 [==============================] - 6s 130us/step - loss: 0.0576 - accuracy: 0.9817 - val_loss: 4.5893 - val_accuracy: 0.5362\n"
     ]
    },
    {
     "data": {
      "text/plain": [
       "<keras.callbacks.callbacks.History at 0x7efbf6e84c50>"
      ]
     },
     "execution_count": 20,
     "metadata": {},
     "output_type": "execute_result"
    }
   ],
   "source": [
    "model.fit(x_train, y_train, \n",
    "          epochs=EPOCHS, \n",
    "          batch_size=BATCH_SIZE, \n",
    "          validation_data=(x_test, y_test), \n",
    "          shuffle=True)"
   ]
  },
  {
   "cell_type": "code",
   "execution_count": 22,
   "metadata": {},
   "outputs": [
    {
     "data": {
      "image/png": "[encoded data removed]",
      "text/plain": [
       "<Figure size 432x288 with 1 Axes>"
      ]
     },
     "metadata": {
      "needs_background": "light"
     },
     "output_type": "display_data"
    },
    {
     "data": {
      "image/png": "[encoded data removed]",
      "text/plain": [
       "<Figure size 432x288 with 1 Axes>"
      ]
     },
     "metadata": {
      "needs_background": "light"
     },
     "output_type": "display_data"
    }
   ],
   "source": [
    "import matplotlib.pyplot as plt\n",
    "\n",
    "\n",
    "train_loss = model.history.history[\"loss\"]\n",
    "valid_loss = model.history.history[\"val_loss\"]\n",
    "\n",
    "train_acc = model.history.history[\"accuracy\"]\n",
    "valid_acc = model.history.history[\"val_accuracy\"]\n",
    "\n",
    "plt.plot(range(len(train_loss)), train_loss, label=\"train loss\")\n",
    "plt.plot(range(len(valid_loss)), valid_loss, label=\"valid loss\")\n",
    "plt.legend()\n",
    "plt.title(\"Loss\")\n",
    "plt.show()\n",
    "\n",
    "plt.plot(range(len(train_acc)), train_acc, label=\"train accuracy\")\n",
    "plt.plot(range(len(valid_acc)), valid_acc, label=\"valid accuracy\")\n",
    "plt.legend()\n",
    "plt.title(\"Accuracy\")\n",
    "plt.show()"
   ]
  },
  {
   "cell_type": "code",
   "execution_count": null,
   "metadata": {},
   "outputs": [],
   "source": []
  }
 ],
 "metadata": {
  "kernelspec": {
   "display_name": "Python 3",
   "language": "python",
   "name": "python3"
  },
  "language_info": {
   "codemirror_mode": {
    "name": "ipython",
    "version": 3
   },
   "file_extension": ".py",
   "mimetype": "text/x-python",
   "name": "python",
   "nbconvert_exporter": "python",
   "pygments_lexer": "ipython3",
   "version": "3.7.3"
  }
 },
 "nbformat": 4,
 "nbformat_minor": 4
}
